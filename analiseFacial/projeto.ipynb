{
 "cells": [
  {
   "cell_type": "code",
   "execution_count": 20,
   "metadata": {},
   "outputs": [],
   "source": [
    "import cv2\n",
    "import mediapipe as mp\n",
    "import numpy as np\n",
    "import time\n"
   ]
  },
  {
   "cell_type": "code",
   "execution_count": 21,
   "metadata": {},
   "outputs": [],
   "source": [
    "mp_drawing = mp.solutions.drawing_utils\n",
    "mp_face_mesh = mp.solutions.face_mesh"
   ]
  },
  {
   "cell_type": "code",
   "execution_count": 22,
   "metadata": {},
   "outputs": [],
   "source": [
    "p_olho_esq = [385, 380, 387, 373, 362, 263]\n",
    "p_olho_dir = [160, 144, 158, 153, 33, 133]\n",
    "p_olhos = p_olho_esq+p_olho_dir\n",
    "\n",
    "p_boca = [82, 87, 13, 14, 312, 317, 78, 308]"
   ]
  },
  {
   "cell_type": "code",
   "execution_count": 23,
   "metadata": {},
   "outputs": [],
   "source": [
    "def calculo_ear(face, p_olho_dir, p_olho_esq):\n",
    "    try:\n",
    "        face = np.array([[coord.x, coord.y] for coord in face])\n",
    "        face_esq = face[p_olho_esq,:]\n",
    "        face_dir = face[p_olho_dir, :]\n",
    "\n",
    "        ear_esq = (np.linalg.norm(face_esq[0]-face_esq[1]) + np.linalg.norm(face_esq[2]-face_esq[3])) / (2*np.linalg.norm(face_esq[4]-face_esq[5]))\n",
    "        ear_dir = (np.linalg.norm(face_dir[0]-face_dir[1]) + np.linalg.norm(face_dir[2]-face_dir[3])) / (2*np.linalg.norm(face_dir[4]-face_dir[5]))\n",
    "    except:\n",
    "        ear_esq = 0.0\n",
    "        ear_dir = 0.0\n",
    "    \n",
    "    media_ear = (ear_esq+ear_dir)/2\n",
    "    return media_ear"
   ]
  },
  {
   "cell_type": "code",
   "execution_count": 24,
   "metadata": {},
   "outputs": [],
   "source": [
    "def calculo_mar(face, p_boca):\n",
    "    try:\n",
    "        face = np.array([[coord.x, coord.y] for coord in face])\n",
    "        face_boca = face[p_boca,:]\n",
    "\n",
    "        mar = (np.linalg.norm(face_boca[0]-face_boca[1]) + np.linalg.norm(face_boca[2]-face_boca[3]) + np.linalg.norm(face_boca[4]-face_boca[5])) / (2*np.linalg.norm(face_boca[6]-face_boca[7]))\n",
    "    except:\n",
    "        mar = 0.0\n",
    "    \n",
    "    return mar"
   ]
  },
  {
   "cell_type": "code",
   "execution_count": 30,
   "metadata": {},
   "outputs": [
    {
     "name": "stderr",
     "output_type": "stream",
     "text": [
      "c:\\Users\\Luca\\anaconda3\\Lib\\site-packages\\google\\protobuf\\symbol_database.py:55: UserWarning: SymbolDatabase.GetPrototype() is deprecated. Please use message_factory.GetMessageClass() instead. SymbolDatabase.GetPrototype() will be removed soon.\n",
      "  warnings.warn('SymbolDatabase.GetPrototype() is deprecated. Please '\n"
     ]
    }
   ],
   "source": [
    "ear_limiar = 0.3\n",
    "mar_limiar = 0.2\n",
    "dormindo = 0\n",
    "contagem_piscadas = 0\n",
    "c_tempo = 0\n",
    "contagem_temporaria = 0\n",
    "contagem_lista = []\n",
    "\n",
    "t_piscadas = time.time()\n",
    "\n",
    "cap = cv2.VideoCapture(0)\n",
    "\n",
    "with mp_face_mesh.FaceMesh(min_detection_confidence=0.5, min_tracking_confidence=0.5) as facemesh:\n",
    "    while cap.isOpened:\n",
    "        sucesso, frame = cap.read()\n",
    "        frame = cv2.flip(frame, 1)\n",
    "\n",
    "        if not sucesso:\n",
    "            print('Ignorando o frame vazio')\n",
    "            break\n",
    "\n",
    "        comprimento, largura, _ = frame.shape\n",
    "\n",
    "        frame = cv2.cvtColor(frame, cv2.COLOR_BGR2RGB)\n",
    "        saida_facemesh = facemesh.process(frame)\n",
    "        frame = cv2.cvtColor(frame, cv2.COLOR_RGB2BGR)\n",
    "\n",
    "        try:\n",
    "            for face_landmarks in saida_facemesh.multi_face_landmarks:\n",
    "                mp_drawing.draw_landmarks(frame, face_landmarks, mp_face_mesh.FACEMESH_CONTOURS,\n",
    "                                          landmark_drawing_spec = mp_drawing.DrawingSpec(color=(255, 102, 102), thickness=1, circle_radius=1),\n",
    "                                          connection_drawing_spec = mp_drawing.DrawingSpec(color=(102, 255, 102), thickness=1, circle_radius=1))\n",
    "                \n",
    "                face = face_landmarks.landmark\n",
    "                for id_coord, coord_xyz in enumerate(face):\n",
    "                    if id_coord in p_olhos:\n",
    "                        coord_cv = mp_drawing._normalized_to_pixel_coordinates(coord_xyz.x, coord_xyz.y, largura, comprimento)\n",
    "                        cv2.circle(frame, coord_cv, 2, (255,0,0), -1)\n",
    "                    if id_coord in p_boca:\n",
    "                       coord_cv = mp_drawing._normalized_to_pixel_coordinates(coord_xyz.x,coord_xyz.y, largura, comprimento)\n",
    "                       cv2.circle(frame, coord_cv, 2, (255,0,0), -1)\n",
    "                \n",
    "                cv2.rectangle(frame, (0,1),(290,140),(58,58,55),-1)\n",
    "\n",
    "                ear = calculo_ear(face, p_olho_dir, p_olho_esq)\n",
    "                cv2.putText(frame, f\"EAR: {round(ear, 2)}\", (1, 24), cv2.FONT_HERSHEY_DUPLEX, 0.9, (255, 255, 255), 2)\n",
    "\n",
    "                mar = calculo_mar(face, p_boca)\n",
    "                cv2.putText(frame, f\"MAR: {round(mar, 2)} {'Aberto' if mar >= mar_limiar else 'Fechado'}\", (1, 50),\n",
    "                                cv2.FONT_HERSHEY_DUPLEX,\n",
    "                                0.9, (255, 255, 255), 2)\n",
    "                \n",
    "                cv2.putText(frame, f\"Piscadas: {contagem_piscadas}\", (1, 120),\n",
    "                                                cv2.FONT_HERSHEY_DUPLEX,\n",
    "                                                0.9, (109, 233, 219), 2)\n",
    "                \n",
    "                if ear < ear_limiar and mar < mar_limiar:\n",
    "                    t_inicial = time.time() if dormindo == 0 else t_inicial\n",
    "                    contagem_piscadas = contagem_piscadas+1 if dormindo == 0 else contagem_piscadas\n",
    "                    dormindo = 1\n",
    "                if (dormindo == 1 and ear >= ear_limiar) or (ear <= ear_limiar and mar>= mar_limiar):\n",
    "                    dormindo = 0\n",
    "\n",
    "                t_final = time.time()\n",
    "                tempo_decorrido = t_final - t_piscadas\n",
    "                \n",
    "                tempo = (t_final-t_inicial) if dormindo == 1 else 0.0\n",
    "\n",
    "                if tempo_decorrido >= (c_tempo+1):\n",
    "                    c_tempo = tempo_decorrido\n",
    "                    piscadas_ps = contagem_piscadas-contagem_temporaria\n",
    "                    contagem_temporaria = contagem_piscadas\n",
    "                    contagem_lista.append(piscadas_ps)\n",
    "                    contagem_lista = contagem_lista if (len(contagem_lista) <= 60) else contagem_lista[-60:]\n",
    "                piscada_pm = 15 if tempo_decorrido <= 60 else sum(contagem_lista)\n",
    "\n",
    "                cv2.putText(frame, f\"Tempo: {round(tempo, 3)}\", (1, 80), cv2.FONT_HERSHEY_DUPLEX, 0.9, (255, 255, 255), 2)\n",
    "                \n",
    "                if piscada_pm < 10 or tempo>=1.5:\n",
    "                    cv2.rectangle(frame, (30, 400), (610, 452), (109, 233, 219), -1)\n",
    "                    cv2.putText(frame, f\"Pode ser que voce esteja com sono,\", (60, 420),\n",
    "                                        cv2.FONT_HERSHEY_DUPLEX, \n",
    "                                        0.85, (58,58,55), 1)\n",
    "                    cv2.putText(frame, f\"considere descansar.\", (180, 450),\n",
    "                                        cv2.FONT_HERSHEY_DUPLEX, \n",
    "                                        0.85, (58,58,55), 1)\n",
    "        except:\n",
    "            pass\n",
    "\n",
    "        cv2.imshow('camera', frame)\n",
    "\n",
    "        if cv2.waitKey(10) & 0xFF == ord('c'):\n",
    "            break\n",
    "\n",
    "cap.release()\n",
    "cv2.destroyAllWindows()\n"
   ]
  },
  {
   "cell_type": "code",
   "execution_count": null,
   "metadata": {},
   "outputs": [],
   "source": []
  },
  {
   "cell_type": "code",
   "execution_count": null,
   "metadata": {},
   "outputs": [],
   "source": []
  },
  {
   "cell_type": "code",
   "execution_count": null,
   "metadata": {},
   "outputs": [],
   "source": []
  },
  {
   "cell_type": "code",
   "execution_count": null,
   "metadata": {},
   "outputs": [],
   "source": []
  },
  {
   "cell_type": "code",
   "execution_count": null,
   "metadata": {},
   "outputs": [],
   "source": []
  }
 ],
 "metadata": {
  "kernelspec": {
   "display_name": "base",
   "language": "python",
   "name": "python3"
  },
  "language_info": {
   "codemirror_mode": {
    "name": "ipython",
    "version": 3
   },
   "file_extension": ".py",
   "mimetype": "text/x-python",
   "name": "python",
   "nbconvert_exporter": "python",
   "pygments_lexer": "ipython3",
   "version": "3.12.4"
  }
 },
 "nbformat": 4,
 "nbformat_minor": 2
}
